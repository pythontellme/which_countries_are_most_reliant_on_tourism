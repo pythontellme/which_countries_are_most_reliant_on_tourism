{
 "cells": [
  {
   "cell_type": "markdown",
   "metadata": {},
   "source": [
    "# WHICH COUNTRIES ARE MOST RELIANT ON TOURISM?"
   ]
  },
  {
   "cell_type": "markdown",
   "metadata": {},
   "source": [
    "## READ DATA INTO DATAFRAMES"
   ]
  },
  {
   "cell_type": "code",
   "execution_count": null,
   "metadata": {},
   "outputs": [],
   "source": [
    "\"\"\"\n",
    "A script for analyzing data to find out which country has\n",
    "most tourists per capita.\n",
    "\"\"\"\n",
    "\n",
    "import pandas as pd\n",
    "import matplotlib.pyplot as plt\n",
    "\n",
    "# Read data from xls files\n",
    "df_pop = pd.read_excel('population.xls', skiprows=3 )\n",
    "df_tourists = pd.read_excel('number_of_arrivals.xls', skiprows=3)\n",
    "\n",
    "print(df_pop)\n",
    "print(df_tourists)"
   ]
  },
  {
   "cell_type": "markdown",
   "metadata": {},
   "source": [
    "## CLEANING THE DATA"
   ]
  },
  {
   "cell_type": "code",
   "execution_count": null,
   "metadata": {},
   "outputs": [],
   "source": [
    "# Delete unnecessary columns\n",
    "df_tourists = df_tourists.iloc[:,[0,1,-2]]\n",
    "df_pop = df_pop.iloc[:,[0,1,-2]]\n",
    "\n",
    "# Rename columns\n",
    "df_tourists.rename(columns={'2018': 'tourists_2018'}, inplace=True)\n",
    "df_pop.rename(columns={'2018': 'pop_2018'}, inplace=True)\n",
    "\n",
    "# Merge dataframes\n",
    "df_tourists = pd.merge(df_tourists, df_pop)\n",
    "\n",
    "# Drop rows\n",
    "df_tourists = df_tourists.dropna()\n",
    "\n",
    "print(df_tourists)"
   ]
  },
  {
   "cell_type": "markdown",
   "metadata": {},
   "source": [
    "## FILTERING OUR DATA WITH A MERGE"
   ]
  },
  {
   "cell_type": "code",
   "execution_count": null,
   "metadata": {},
   "outputs": [],
   "source": [
    "''' Get rid of rows with aggregate country data '''\n",
    "\n",
    "# Read country metadata from tourist xls file\n",
    "df_tourist_meta = pd.read_excel('number_of_arrivals.xls', sheet_name = 'Metadata - Countries')\n",
    "\n",
    "# Drop rows that are empty in 'Region' column\n",
    "df_tourist_meta = df_tourist_meta.dropna(subset=['Region'])\n",
    "\n",
    "# Delete all columns except 'Country Code'\n",
    "df_tourist_meta = df_tourist_meta['Country Code']\n",
    "\n",
    "# Inner merge to eliminate unnecessary country codes\n",
    "df_tourists = df_tourists.merge(df_tourist_meta, on='Country Code', how='inner')\n",
    "\n",
    "# Add column\n",
    "df_tourists['tourists_per_capita'] = df_tourists['tourists_2018']/df_tourists['pop_2018']\n",
    "\n",
    "# Sort dataframe\n",
    "df_tourists = df_tourists.sort_values(by=['tourists_per_capita'], ascending = False)\n",
    "\n",
    "print(df_tourists)"
   ]
  },
  {
   "cell_type": "markdown",
   "metadata": {},
   "source": [
    "## VISUALIZING THE RESULTS"
   ]
  },
  {
   "cell_type": "code",
   "execution_count": null,
   "metadata": {},
   "outputs": [],
   "source": [
    "# Plot tourist with most tourists per capita\n",
    "top = df_tourists.iloc[10::-1]\n",
    "bottom = df_tourists.iloc[:-12  :-1]\n",
    "new_df = pd.concat([top,bottom])\n",
    "fig = plt.figure()\n",
    "ax1 = plt.subplot(211)\n",
    "ax1.barh(top['Country Name'], top['tourists_per_capita'], color='#77b255')\n",
    "ax2 = plt.subplot(212)\n",
    "ax2.barh(bottom['Country Name'], bottom['tourists_per_capita'])\n",
    "plt.show()"
   ]
  }
 ],
 "metadata": {
  "kernelspec": {
   "display_name": "Python 3",
   "language": "python",
   "name": "python3"
  },
  "language_info": {
   "codemirror_mode": {
    "name": "ipython",
    "version": 3
   },
   "file_extension": ".py",
   "mimetype": "text/x-python",
   "name": "python",
   "nbconvert_exporter": "python",
   "pygments_lexer": "ipython3",
   "version": "3.8.1"
  }
 },
 "nbformat": 4,
 "nbformat_minor": 4
}
